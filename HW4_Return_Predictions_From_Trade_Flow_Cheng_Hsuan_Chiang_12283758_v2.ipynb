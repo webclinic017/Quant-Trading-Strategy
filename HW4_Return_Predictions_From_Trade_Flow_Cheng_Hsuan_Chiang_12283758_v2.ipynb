{
 "cells": [
  {
   "cell_type": "markdown",
   "id": "8f725067",
   "metadata": {},
   "source": [
    "# Cheng Hsuan Chiang \n",
    "# ID: 12283758\n",
    "# Homework4: Return Predictions From Trade Flow"
   ]
  },
  {
   "cell_type": "markdown",
   "id": "583b23aa",
   "metadata": {},
   "source": [
    "## University of Chicago - Financial Mathematics\n",
    "## FINM 33150 - Regression Analysis and Quantitative Trading Strategies"
   ]
  },
  {
   "cell_type": "markdown",
   "id": "d69ee2ec",
   "metadata": {},
   "source": [
    "## This was worked on with Richmond Frankeberger and Imtiaz Ali"
   ]
  },
  {
   "cell_type": "markdown",
   "id": "db1cc638",
   "metadata": {},
   "source": [
    "# 0. Introduction(Flow calculation / Forward Return calculation / prediction)"
   ]
  },
  {
   "cell_type": "markdown",
   "id": "698ff5ff",
   "metadata": {},
   "source": [
    "**Here you will assess trade flow as means of generating profit opportunities in 3 cryptotoken markets(BTCUSD, ETHUSD, and ETHBTC) from CoinBase Websocket API for 2021.<br>\n",
    "We stress the word \"opportunity\" because at high data rates like these, and given the markets' price-time priority, it is far easier to identify desirable trades in the data stream than it is to inject oneself profitably into the fray.**"
   ]
  },
  {
   "cell_type": "markdown",
   "id": "a29588a1",
   "metadata": {},
   "source": [
    "## 0.1 Flow Calculation"
   ]
  },
  {
   "cell_type": "markdown",
   "id": "a94eeb67",
   "metadata": {},
   "source": [
    "$F_{t}^{(\\tau)} = V_{t-\\tau, t}^{B} - V_{t-\\tau, t}^{S}$"
   ]
  },
  {
   "cell_type": "markdown",
   "id": "67ce767e",
   "metadata": {},
   "source": [
    "$V^B$ - volume of buyer-initiated trades;\n",
    "\n",
    "$V^S$ - volume of seller-initiated trades;\n",
    "\n",
    "$F_t^{(\\tau)}$ - flow corresponding to time $t$;\n",
    "\n",
    "$\\tau$ - threshold for flow calculation;"
   ]
  },
  {
   "cell_type": "markdown",
   "id": "2889c169",
   "metadata": {},
   "source": [
    "## 0.2 Forward Return calculation"
   ]
  },
  {
   "cell_type": "markdown",
   "id": "1ca73650",
   "metadata": {},
   "source": [
    "$$ r_t = \\frac{P_{t+T}}{P_t} - 1 $$"
   ]
  },
  {
   "cell_type": "markdown",
   "id": "b313c618",
   "metadata": {},
   "source": [
    "$P_t$ - price of the asset at current time stamp $t$;\n",
    "\n",
    "$P_{t+T}$ - price of the asset $T$ seconds from current time stamp $t$;\n",
    "\n",
    "$T$ - threshold for forward return calculation;"
   ]
  },
  {
   "cell_type": "markdown",
   "id": "8e98dd6e",
   "metadata": {},
   "source": [
    "## 0.3 Regression(regress forward returns on flows)"
   ]
  },
  {
   "cell_type": "markdown",
   "id": "b58c0f31",
   "metadata": {},
   "source": [
    "$$ r_t = \\beta \\cdot F_t^{(\\tau)} + \\alpha $$"
   ]
  },
  {
   "cell_type": "markdown",
   "id": "6c9a1d32",
   "metadata": {},
   "source": [
    "## 0.4 Forward Return prediction (predict future forward returns by multiplying estimated $\\beta$ on actual flows)"
   ]
  },
  {
   "cell_type": "markdown",
   "id": "ed6fdeb2",
   "metadata": {},
   "source": [
    "$$ \\hat{r}_i = \\beta \\cdot F_i^{(\\tau)} $$"
   ]
  },
  {
   "cell_type": "markdown",
   "id": "7774ef46",
   "metadata": {},
   "source": [
    "# 1. Data Processing"
   ]
  },
  {
   "cell_type": "markdown",
   "id": "0c5e3153",
   "metadata": {},
   "source": [
    "**First we retrieve all necessary packages, imports and Functions:**"
   ]
  },
  {
   "cell_type": "code",
   "execution_count": 1,
   "id": "4bed0100",
   "metadata": {
    "ExecuteTime": {
     "end_time": "2022-02-13T04:30:28.165378Z",
     "start_time": "2022-02-13T04:30:26.087664Z"
    }
   },
   "outputs": [],
   "source": [
    "%matplotlib inline\n",
    "import pandas                    as     pd\n",
    "import numpy                     as     np\n",
    "import seaborn                   as     sns\n",
    "import statsmodels.api           as     sm\n",
    "import scipy\n",
    "import sys\n",
    "import requests\n",
    "import time\n",
    "import pytz\n",
    "from   matplotlib                import pyplot as plt\n",
    "from   datetime                  import datetime\n",
    "from   datetime                  import timedelta\n",
    "from   p_tqdm                    import p_map,t_map\n",
    "from   tqdm.notebook             import tqdm\n",
    "from   os.path                   import exists\n",
    "import warnings\n",
    "warnings.simplefilter(action='ignore', category=FutureWarning)\n",
    "pd.options.display.float_format = '{:.6f}'.format"
   ]
  },
  {
   "cell_type": "markdown",
   "id": "458649b2",
   "metadata": {},
   "source": [
    "**We will define a function for importing crypto data locally**"
   ]
  },
  {
   "cell_type": "code",
   "execution_count": 2,
   "id": "205fb3bd",
   "metadata": {
    "ExecuteTime": {
     "end_time": "2022-02-13T04:30:28.181335Z",
     "start_time": "2022-02-13T04:30:28.167372Z"
    }
   },
   "outputs": [],
   "source": [
    "## We will define a function for importing crypto data locally. \n",
    "## pair: cryptoken pair \n",
    "def extract_data(pair):           \n",
    "    if pair == \"ETH-USD\":\n",
    "        df                       = pd.read_csv(f\"trades_narrow_ETH-USD_2021.delim\", delimiter=\"\\t\")\n",
    "    elif pair == \"BTC-USD\":\n",
    "        df                       = pd.read_csv(f\"trades_narrow_BTC-USD_2021.delim\", delimiter=\"\\t\")\n",
    "    elif pair == \"ETH-BTC\":\n",
    "        df                       = pd.read_csv(f\"trades_narrow_ETH-BTC_2021.delim\", delimiter=\"\\t\")    \n",
    "    df.timestamp_utc_nanoseconds = pd.to_datetime(df.timestamp_utc_nanoseconds)\n",
    "    df                           = df.set_index(\"timestamp_utc_nanoseconds\")\n",
    "    return df"
   ]
  },
  {
   "cell_type": "code",
   "execution_count": 3,
   "id": "2e0ed5b6",
   "metadata": {
    "ExecuteTime": {
     "end_time": "2022-02-13T04:30:31.701777Z",
     "start_time": "2022-02-13T04:30:28.182333Z"
    }
   },
   "outputs": [],
   "source": [
    "ETHUSD_trades = extract_data(\"ETH-USD\")\n",
    "BTCUSD_trades = extract_data(\"BTC-USD\")\n",
    "ETHBTC_trades = extract_data(\"ETH-BTC\")"
   ]
  },
  {
   "cell_type": "markdown",
   "id": "14b5d302",
   "metadata": {
    "ExecuteTime": {
     "end_time": "2022-02-10T19:45:43.429294Z",
     "start_time": "2022-02-10T19:45:43.418323Z"
    }
   },
   "source": [
    "### 1.1 We will search for what values of tau and T are the most profitable to trade"
   ]
  },
  {
   "cell_type": "markdown",
   "id": "a5ea04f4",
   "metadata": {},
   "source": [
    "**The optimization of tau and T are key in assessing trading opportunities. We will do gridsearch of tau and T in assessing trading opportunities.**"
   ]
  },
  {
   "cell_type": "markdown",
   "id": "fc978f16",
   "metadata": {},
   "source": [
    "**Based on professor Brian's recommendation on the choice of timeframe of tau and T in class, professor Brian recommended the choice of timeframe from 1 second to 60 seconds.<br>\n",
    "We will simulate 1 second as the bottom parameter, and up to 60 seconds for the top parameter. We will choose tau and T from combinations of 1, 2, 10, 30, and 60 seconds.**"
   ]
  },
  {
   "cell_type": "code",
   "execution_count": 4,
   "id": "e75f250b",
   "metadata": {
    "ExecuteTime": {
     "end_time": "2022-02-13T04:30:31.717735Z",
     "start_time": "2022-02-13T04:30:31.703767Z"
    }
   },
   "outputs": [],
   "source": [
    "taus = [1,2,10,30,60]\n",
    "Ts   = [1,2,10,30,60]"
   ]
  },
  {
   "cell_type": "markdown",
   "id": "13019282",
   "metadata": {},
   "source": [
    "**We will calculate trade flow and save the calculation into csv.**"
   ]
  },
  {
   "cell_type": "code",
   "execution_count": 5,
   "id": "bbfaaffa",
   "metadata": {
    "ExecuteTime": {
     "end_time": "2022-02-13T04:30:31.733721Z",
     "start_time": "2022-02-13T04:30:31.718728Z"
    }
   },
   "outputs": [],
   "source": [
    "def calulation_trade_flow_and_csv_preperation(trades,pair,tau,T):\n",
    "    ## We will calculate trade flow and save the calculation into csv if there is not there already.\n",
    "    if not exists(\"{}_tau_{}_T_{}_seconds.csv\".format(pair,tau,T)):\n",
    "        df_trade                   = trades\n",
    "        df_tradeoriginal           = df_trade.copy()\n",
    "        df_trade                   = df_trade.assign(Flow = (df_trade['SizeBillionths'] * (df_trade['Side'] < 0 )- df_trade['SizeBillionths']*(df_trade['Side'] > 0 )).cumsum())\n",
    "        \n",
    "        df_trade_lookback          = df_trade.copy()\n",
    "        df_trade_lookback.index    = df_trade_lookback.index  - timedelta(seconds = tau)\n",
    "        \n",
    "        df_flowcaculation          = pd.concat([df_trade['Flow'].to_frame('Flow_tau_end'),df_trade_lookback['Flow'].to_frame('Flow_start')],0)\n",
    "        df_flowcaculation          = df_flowcaculation.sort_index(kind='stable').fillna(method='ffill')\n",
    "        df_flowcaculation          = df_flowcaculation.assign(Flow   = df_flowcaculation['Flow_tau_end'] - df_flowcaculation['Flow_start'])        \n",
    "        df_flowcaculation_final    = pd.merge_asof(df_tradeoriginal,df_flowcaculation,left_index=True,right_index=True)\n",
    "        \n",
    "        df_test                    = df_flowcaculation_final.copy()[['PriceMillionths','SizeBillionths']]\n",
    "        df_test                    = df_test.assign(dolvol        = df_test['PriceMillionths'] / 1000000000 * df_test['SizeBillionths'])\n",
    "        df_test                    = df_test.groupby(df_test.index).agg('sum')\n",
    "        \n",
    "        df_test                    = df_test.assign(WeightPx      = df_test['dolvol'] / df_test['SizeBillionths'] * 1000000000)\n",
    "        df_test                    = df_test[['WeightPx']]\n",
    "        df_test                    = df_test.assign(WeightPxStart = df_test['WeightPx'].rolling('{}s'.format(T),closed='left').mean().ffill())\n",
    "        \n",
    "        df_trade_flow_preperation  = pd.merge_asof(df_flowcaculation_final,df_test,left_index=True,right_index=True)\n",
    "        df_trade_flow_preperation  = df_trade_flow_preperation.assign(Ret = df_trade_flow_preperation['PriceMillionths'] / df_trade_flow_preperation['WeightPxStart'] - 1)\n",
    "        df_trade_flow_preperation  = df_trade_flow_preperation.reset_index()\n",
    "        df_trade_flow_preperation  = df_trade_flow_preperation[['timestamp_utc_nanoseconds','Flow','Ret']]               \n",
    "        \n",
    "        filename                   = \"{}_tau_{}_T_{}_seconds.csv\".format(pair,tau,T)\n",
    "        df_trade_flow_preperation.to_csv(filename)"
   ]
  },
  {
   "cell_type": "markdown",
   "id": "6c245d71",
   "metadata": {},
   "source": [
    "**We will define a function to run linear regression, prediction, and profitability analysis**"
   ]
  },
  {
   "cell_type": "code",
   "execution_count": 6,
   "id": "b22f3ce1",
   "metadata": {
    "ExecuteTime": {
     "end_time": "2022-02-13T04:30:31.749647Z",
     "start_time": "2022-02-13T04:30:31.734685Z"
    }
   },
   "outputs": [],
   "source": [
    "def calulation_trade_flow_and_return(period,trades,pair,tau,T):\n",
    "    ## We will seperate our flow data into train and test set\n",
    "    df_trade_flow_preperation                        = pd.read_csv(\"{}_tau_{}_T_{}_seconds.csv\".format(pair,tau,T))\n",
    "    df_train                                         = df_trade_flow_preperation.iloc[:int(df_trade_flow_preperation.shape[0] * period),:]\n",
    "    df_test                                          = df_trade_flow_preperation.iloc[int(df_trade_flow_preperation.shape[0] * period):,:]\n",
    "    \n",
    "    return_train, flow_train, return_test, flow_test = df_train['Ret'], df_train['Flow'], df_test['Ret'], df_test['Flow']\n",
    "    independent_variable_add_constant_train          = sm.add_constant(flow_train/1000000000)\n",
    "    independent_variable_add_constant_test           = sm.add_constant(flow_test /1000000000)\n",
    "    Regression                                       = sm.OLS(return_train,independent_variable_add_constant_train,missing='drop').fit()\n",
    "    Prediction                                       = Regression.predict(independent_variable_add_constant_test)                        \n",
    "    regression_stats                                 = pd.DataFrame(index=['Strat_Ret'],columns=[r'Out of Sample $R^2$',r'$R^2$','Alpha','Beta'])\n",
    "    regression_stats['Alpha']                        = Regression.params['const']\n",
    "    regression_stats['Beta']                         = Regression.params[1]\n",
    "    regression_stats[r'$R^2$']                       = Regression.rsquared\n",
    "    sum_squared_regression_ssr                       = return_test - Prediction\n",
    "    total_sum_of_squares_sst                         = return_test - return_test.mean()    \n",
    "    ssr                                              = (sum_squared_regression_ssr ** 2).sum()\n",
    "    sst                                              = (total_sum_of_squares_sst ** 2).sum()\n",
    "    out_of_sample_rsquared                           = 1 - ssr/sst    \n",
    "    regression_stats[r'Out of Sample $R^2$']         = out_of_sample_rsquared\n",
    "        \n",
    "    df_test                                          = df_test.assign(Pred_Return  = df_test['Flow']/ 1000000000 * regression_stats['Beta'][0] + regression_stats['Alpha'][0])\n",
    "    df_test                                          = df_test.assign(j_upper      = df_test['Pred_Return'].mean() + df_test['Pred_Return'].std()*0.5)\n",
    "    df_test                                          = df_test.assign(j_lower      = df_test['Pred_Return'].mean()   - df_test['Pred_Return'].std()*0.5)\n",
    "    j_upper                                          = df_test['Pred_Return'].mean() + df_test['Pred_Return'].std()*0.5\n",
    "    j_lower                                          = df_test['Pred_Return'].mean() - df_test['Pred_Return'].std()*0.5\n",
    "\n",
    "    df_test                                          = df_test.assign(Position = (df_test['Pred_Return'] > df_test['j_upper']) * 1  - (df_test['Pred_Return'] < df_test['j_lower']) * 1)\n",
    "    df_test                                          = df_test.assign(PL_DLY   = (df_test['Position']  * (df_test['Ret']) * 10000))\n",
    "    df_test                                          = df_test.assign(Cumulative_PNL   = df_test['PL_DLY'].cumsum())\n",
    "\n",
    "    df_test                                          = df_test.set_index(\"timestamp_utc_nanoseconds\")\n",
    "    df_test                                          = df_test.assign(Strat_Ret = (df_test['PL_DLY'])/(df_test['Cumulative_PNL']+1000000))\n",
    "    df_returns                                       = df_test[['Strat_Ret']]\n",
    "    df_analysis                                      = pd.DataFrame(index=df_test[['Strat_Ret']].columns)\n",
    "    df_analysis['Sharpe Ratio']                      = (df_returns.mean()/df_returns.std())\n",
    "    df_analysis['Sortino Ratio']                     = (df_returns.mean()/df_returns[df_returns< 0].std())\n",
    "    df_performance                                   = df_analysis\n",
    "    df_performance                                   = df_performance.assign(Cumulative_PNL     = df_test['Cumulative_PNL'][-1])\n",
    "    results                                          = regression_stats.join(df_performance).T\n",
    "        \n",
    "    return df_train, df_test, results"
   ]
  },
  {
   "cell_type": "code",
   "execution_count": 7,
   "id": "8fe5be01",
   "metadata": {
    "ExecuteTime": {
     "end_time": "2022-02-13T04:30:31.765607Z",
     "start_time": "2022-02-13T04:30:31.750645Z"
    }
   },
   "outputs": [],
   "source": [
    "def evaluation(period,trades,pair,taus,Ts):\n",
    "    concatlist = []\n",
    "    for tau in taus:\n",
    "        for T in Ts:\n",
    "            calulation_trade_flow_and_csv_preperation(trades,pair,tau,T)          \n",
    "            df_train, df_test, results = calulation_trade_flow_and_return(period,trades,pair,tau,T)\n",
    "            results = results.rename(columns={'Strat_Ret':'T={}, tau={}, {}'.format(T,tau,pair)})\n",
    "            concatlist.append(results)\n",
    "    return pd.concat(concatlist,axis = 1).T"
   ]
  },
  {
   "cell_type": "code",
   "execution_count": 8,
   "id": "934d058e",
   "metadata": {
    "ExecuteTime": {
     "end_time": "2022-02-13T04:31:20.947406Z",
     "start_time": "2022-02-13T04:30:31.766602Z"
    }
   },
   "outputs": [],
   "source": [
    "ETHUSD_performance_table    = evaluation(0.2,ETHUSD_trades,\"ETHUSD\",taus,Ts)\n",
    "ETHUSD_performance_table_30 = evaluation(0.3,ETHUSD_trades,\"ETHUSD\",taus,Ts)\n",
    "ETHUSD_performance_table_40 = evaluation(0.4,ETHUSD_trades,\"ETHUSD\",taus,Ts)\n",
    "ETHUSD_performance_table_50 = evaluation(0.5,ETHUSD_trades,\"ETHUSD\",taus,Ts)\n",
    "ETHUSD_performance_table_60 = evaluation(0.6,ETHUSD_trades,\"ETHUSD\",taus,Ts)"
   ]
  },
  {
   "cell_type": "code",
   "execution_count": 9,
   "id": "36c3dda1",
   "metadata": {
    "ExecuteTime": {
     "end_time": "2022-02-13T04:46:53.890080Z",
     "start_time": "2022-02-13T04:31:20.949402Z"
    }
   },
   "outputs": [],
   "source": [
    "BTCUSD_performance_table    = evaluation(0.2,BTCUSD_trades,\"BTCUSD\",taus,Ts)\n",
    "BTCUSD_performance_table_30 = evaluation(0.3,BTCUSD_trades,\"BTCUSD\",taus,Ts)\n",
    "BTCUSD_performance_table_40 = evaluation(0.4,BTCUSD_trades,\"BTCUSD\",taus,Ts)\n",
    "BTCUSD_performance_table_50 = evaluation(0.5,BTCUSD_trades,\"BTCUSD\",taus,Ts)\n",
    "BTCUSD_performance_table_60 = evaluation(0.6,BTCUSD_trades,\"BTCUSD\",taus,Ts)"
   ]
  },
  {
   "cell_type": "code",
   "execution_count": 10,
   "id": "c6d9ade0",
   "metadata": {
    "ExecuteTime": {
     "end_time": "2022-02-13T04:47:00.910697Z",
     "start_time": "2022-02-13T04:46:53.892073Z"
    }
   },
   "outputs": [],
   "source": [
    "ETHBTC_performance_table    = evaluation(0.2,ETHBTC_trades,\"ETHBTC\",taus,Ts)\n",
    "ETHBTC_performance_table_30 = evaluation(0.3,ETHBTC_trades,\"ETHBTC\",taus,Ts)\n",
    "ETHBTC_performance_table_40 = evaluation(0.4,ETHBTC_trades,\"ETHBTC\",taus,Ts)\n",
    "ETHBTC_performance_table_50 = evaluation(0.5,ETHBTC_trades,\"ETHBTC\",taus,Ts)\n",
    "ETHBTC_performance_table_60 = evaluation(0.6,ETHBTC_trades,\"ETHBTC\",taus,Ts)"
   ]
  },
  {
   "cell_type": "code",
   "execution_count": 11,
   "id": "73876f0c",
   "metadata": {
    "ExecuteTime": {
     "end_time": "2022-02-13T04:47:00.926656Z",
     "start_time": "2022-02-13T04:47:00.912693Z"
    }
   },
   "outputs": [
    {
     "name": "stdout",
     "output_type": "stream",
     "text": [
      "ETH/USD Trades Total: 306798\n",
      "BTC/USD Trades Total: 6268838\n",
      "ETH/BTC Trades Total: 32744\n"
     ]
    }
   ],
   "source": [
    "print('ETH/USD Trades Total: %d' % len(ETHUSD_trades))\n",
    "print('BTC/USD Trades Total: %d' % len(BTCUSD_trades))\n",
    "print('ETH/BTC Trades Total: %d' % len(ETHBTC_trades))"
   ]
  },
  {
   "cell_type": "markdown",
   "id": "0ddd6755",
   "metadata": {},
   "source": [
    "# 2.Trading Strategy Implementation"
   ]
  },
  {
   "cell_type": "markdown",
   "id": "136ddcd4",
   "metadata": {},
   "source": [
    "###  2.0.1 We will calculate simulation of Profit and Loss"
   ]
  },
  {
   "cell_type": "markdown",
   "id": "6b1ba15e",
   "metadata": {},
   "source": [
    "**Professor Brian mentioned on ed that it is too time-consuming to do a trading strategy here.  There's a lot of data, and at the tick level the analyses and assumptions get tricky.  And it is impossible to vectorize.<br>**"
   ]
  },
  {
   "cell_type": "markdown",
   "id": "642b142e",
   "metadata": {
    "ExecuteTime": {
     "end_time": "2022-02-10T21:44:12.406460Z",
     "start_time": "2022-02-10T21:44:12.394489Z"
    }
   },
   "source": [
    "**We will calculate Profit and Loss by assuming initaI Capital of 1million and each trade is about 10thousands. Although calculating Profit and Loss is difficult, we will try to analyze the profitability of collections of observed trades. Our analysis will have the flavor of a trading strategy backtest by incorporating some vectorizable ideas.  The objective of our analysis is to get an idea of a performance metrics.**"
   ]
  },
  {
   "cell_type": "markdown",
   "id": "d9114ba3",
   "metadata": {},
   "source": [
    "###  2.0.2 We will define threshold j for predicted return"
   ]
  },
  {
   "cell_type": "markdown",
   "id": "1a978dd7",
   "metadata": {},
   "source": [
    "**Our tick trading strategy will set threshold j for 0.5 standard deviation sigma away from the mean of predicted returns and the mean and standard deviation or return will be based on the training dataset.<br>**"
   ]
  },
  {
   "cell_type": "markdown",
   "id": "3f045689",
   "metadata": {},
   "source": [
    "**When the predicted return is greater than predicted return mean plus 0.5 standard deviation, we will enter into the position of buying the numerator and shorting the denominator, and we will exit the position at time T.<br>\n",
    "When the predicted return is smaller than predicted return mean minus 0.5 standard deviation, we will enter into the position of selling the numerator and buying the denominator, and we will exit the position at time T.**"
   ]
  },
  {
   "cell_type": "markdown",
   "id": "6aafb595",
   "metadata": {},
   "source": [
    "## 2.1 ETHUSD"
   ]
  },
  {
   "cell_type": "markdown",
   "id": "496d53bb",
   "metadata": {},
   "source": [
    "We can see from the table below that trading strategy when applied to ETHUSD cryptocurrency pair shows the best results when we use the following parameters: $\\tau = 30, T = 60$ seconds"
   ]
  },
  {
   "cell_type": "markdown",
   "id": "88be4835",
   "metadata": {},
   "source": [
    "**Where of tau = 30 and T = 60 had an R^2 of 10% and Out of Sample R^2 of 17%.**"
   ]
  },
  {
   "cell_type": "markdown",
   "id": "ad9e5c48",
   "metadata": {},
   "source": [
    "- **Cumulative PnL = \\$239,939** \n",
    "\n",
    "- **Sharpe Ratio = 0.24** with zero as a benchmark for its calculation (i.e. $r_b = 0$). It tells us that performance of our trading strategy taking into account the OVERALL risk of our strategy is above the benchmark, and we have positive excess returns, i.e. in general we can just say that we have positive returns as benchmark is $0$.\n",
    "\n",
    "\n",
    "- **Sortino Ratio = 0.29** with zero as a benchmark for its calculation (i.e. $r_b = 0$). It tells us that performance of our trading strategy taking into account ONLY the DOWNSIDE RISK of our strategy (measured by standard deviation of positions with negative returns) is above zero, and we have positive returns adjusted for downside risk. As Sortino Ratio is higher than Sharpe Ratio we can say that trading stretegy performs better in downturns than in upturns taking into consideration underlying risk. \n",
    "\n",
    "- **Beta = -0.000003** and tells us that there is a negative relationahip between Flow and Forward returns, and in particular, forward retuns decrease by 0.000003 (0.003\\%) for every 1 bp increase in the Flow."
   ]
  },
  {
   "cell_type": "markdown",
   "id": "aeaaec9a",
   "metadata": {},
   "source": [
    "Taking into consideration common benchmark values for Sharpe and Sortino ratios and the fact that those ratios for our trading strategy are less than 1, we can say that returns delivered by this trading strategy on ETHUSD pair do not make up for the amount of underlying risk."
   ]
  },
  {
   "cell_type": "code",
   "execution_count": 12,
   "id": "95b2e9d7",
   "metadata": {
    "ExecuteTime": {
     "end_time": "2022-02-13T04:47:00.957572Z",
     "start_time": "2022-02-13T04:47:00.927654Z"
    }
   },
   "outputs": [
    {
     "data": {
      "text/html": [
       "<div>\n",
       "<style scoped>\n",
       "    .dataframe tbody tr th:only-of-type {\n",
       "        vertical-align: middle;\n",
       "    }\n",
       "\n",
       "    .dataframe tbody tr th {\n",
       "        vertical-align: top;\n",
       "    }\n",
       "\n",
       "    .dataframe thead th {\n",
       "        text-align: right;\n",
       "    }\n",
       "</style>\n",
       "<table border=\"1\" class=\"dataframe\">\n",
       "  <thead>\n",
       "    <tr style=\"text-align: right;\">\n",
       "      <th></th>\n",
       "      <th>Out of Sample $R^2$</th>\n",
       "      <th>$R^2$</th>\n",
       "      <th>Alpha</th>\n",
       "      <th>Beta</th>\n",
       "      <th>Sharpe Ratio</th>\n",
       "      <th>Sortino Ratio</th>\n",
       "      <th>Cumulative_PNL</th>\n",
       "    </tr>\n",
       "  </thead>\n",
       "  <tbody>\n",
       "    <tr>\n",
       "      <th>T=60, tau=30, ETHUSD</th>\n",
       "      <td>0.174150</td>\n",
       "      <td>0.101128</td>\n",
       "      <td>0.000018</td>\n",
       "      <td>-0.000003</td>\n",
       "      <td>0.243390</td>\n",
       "      <td>0.294098</td>\n",
       "      <td>239939.645547</td>\n",
       "    </tr>\n",
       "    <tr>\n",
       "      <th>T=60, tau=60, ETHUSD</th>\n",
       "      <td>0.160347</td>\n",
       "      <td>0.089396</td>\n",
       "      <td>0.000019</td>\n",
       "      <td>-0.000002</td>\n",
       "      <td>0.226245</td>\n",
       "      <td>0.249007</td>\n",
       "      <td>228424.244820</td>\n",
       "    </tr>\n",
       "    <tr>\n",
       "      <th>T=60, tau=10, ETHUSD</th>\n",
       "      <td>0.117810</td>\n",
       "      <td>0.067185</td>\n",
       "      <td>0.000016</td>\n",
       "      <td>-0.000003</td>\n",
       "      <td>0.204483</td>\n",
       "      <td>0.202346</td>\n",
       "      <td>187089.077696</td>\n",
       "    </tr>\n",
       "    <tr>\n",
       "      <th>T=30, tau=30, ETHUSD</th>\n",
       "      <td>0.152715</td>\n",
       "      <td>0.089425</td>\n",
       "      <td>0.000007</td>\n",
       "      <td>-0.000002</td>\n",
       "      <td>0.212210</td>\n",
       "      <td>0.190060</td>\n",
       "      <td>154058.879013</td>\n",
       "    </tr>\n",
       "    <tr>\n",
       "      <th>T=30, tau=10, ETHUSD</th>\n",
       "      <td>0.136171</td>\n",
       "      <td>0.084480</td>\n",
       "      <td>0.000007</td>\n",
       "      <td>-0.000003</td>\n",
       "      <td>0.209905</td>\n",
       "      <td>0.229907</td>\n",
       "      <td>142815.424498</td>\n",
       "    </tr>\n",
       "  </tbody>\n",
       "</table>\n",
       "</div>"
      ],
      "text/plain": [
       "                      Out of Sample $R^2$    $R^2$    Alpha      Beta  \\\n",
       "T=60, tau=30, ETHUSD             0.174150 0.101128 0.000018 -0.000003   \n",
       "T=60, tau=60, ETHUSD             0.160347 0.089396 0.000019 -0.000002   \n",
       "T=60, tau=10, ETHUSD             0.117810 0.067185 0.000016 -0.000003   \n",
       "T=30, tau=30, ETHUSD             0.152715 0.089425 0.000007 -0.000002   \n",
       "T=30, tau=10, ETHUSD             0.136171 0.084480 0.000007 -0.000003   \n",
       "\n",
       "                      Sharpe Ratio  Sortino Ratio  Cumulative_PNL  \n",
       "T=60, tau=30, ETHUSD      0.243390       0.294098   239939.645547  \n",
       "T=60, tau=60, ETHUSD      0.226245       0.249007   228424.244820  \n",
       "T=60, tau=10, ETHUSD      0.204483       0.202346   187089.077696  \n",
       "T=30, tau=30, ETHUSD      0.212210       0.190060   154058.879013  \n",
       "T=30, tau=10, ETHUSD      0.209905       0.229907   142815.424498  "
      ]
     },
     "execution_count": 12,
     "metadata": {},
     "output_type": "execute_result"
    }
   ],
   "source": [
    "ETHUSD_performance_table.sort_values(r'Cumulative_PNL',ascending=False).head(5)"
   ]
  },
  {
   "cell_type": "markdown",
   "id": "737414ef",
   "metadata": {},
   "source": [
    "**When we plotted Flow versus predicted return, we found that linear relationship between ETHUSD flow and predicted return is not that obvious.**"
   ]
  },
  {
   "cell_type": "code",
   "execution_count": 13,
   "id": "62a78253",
   "metadata": {
    "ExecuteTime": {
     "end_time": "2022-02-13T04:47:01.859148Z",
     "start_time": "2022-02-13T04:47:00.958569Z"
    }
   },
   "outputs": [
    {
     "data": {
      "image/png": "[encoded data removed]",
      "text/plain": [
       "<Figure size 720x576 with 1 Axes>"
      ]
     },
     "metadata": {
      "needs_background": "light"
     },
     "output_type": "display_data"
    }
   ],
   "source": [
    "df_train_ETHUSD_T_60_tau_30, df_test_ETHUSD_T_60_tau_30, results_ETHUSD_T_60_tau_30 = calulation_trade_flow_and_return(0.2,ETHUSD_trades,\"ETHUSD\",30,60)\n",
    "plt.figure(figsize = (10,8))\n",
    "sns.regplot(df_test_ETHUSD_T_60_tau_30['Flow'], df_test_ETHUSD_T_60_tau_30['Ret'], ci = None, scatter_kws={\"color\": \"blue\", 'alpha': 0.3}, line_kws={\"color\": \"red\"})\n",
    "plt.ylabel('ETHUSD T=60 tau=30 Predicted Return')\n",
    "plt.xlabel('ETHUSD T=60 tau=30 Flow')\n",
    "plt.title('ETHUSD T=60 tau=30 Flow vs. Predicted Return', fontsize = 20)\n",
    "plt.show()"
   ]
  },
  {
   "cell_type": "markdown",
   "id": "ae293ddf",
   "metadata": {},
   "source": [
    "## 2.2 BTCUSD"
   ]
  },
  {
   "cell_type": "markdown",
   "id": "0bd21b55",
   "metadata": {},
   "source": [
    "We can see from the table below that trading strategy when applied to BTCUSD cryptocurrency pair shows the best results when we use the following parameters: $\\tau = 30, T = 60$ seconds"
   ]
  },
  {
   "cell_type": "markdown",
   "id": "2ece743b",
   "metadata": {},
   "source": [
    "**Where of tau = 30 and T = 60 had an R^2 of 25% and Out of Sample R^2 of 29%.**"
   ]
  },
  {
   "cell_type": "markdown",
   "id": "541d3e36",
   "metadata": {},
   "source": [
    "- **Cumulative PnL = \\$\t14,137,602** \n",
    "\n",
    "- **Sharpe Ratio = 0.15** with zero as a benchmark for its calculation (i.e. $r_b = 0$). It tells us that performance of our trading strategy taking into account the OVERALL risk of our strategy is above the benchmark, and we have positive excess returns, i.e. in general we can just say that we have positive returns as benchmark is $0$.\n",
    "\n",
    "\n",
    "- **Sortino Ratio = 0.11** with zero as a benchmark for its calculation (i.e. $r_b = 0$). It tells us that performance of our trading strategy taking into account ONLY the DOWNSIDE RISK of our strategy (measured by standard deviation of positions with negative returns) is above zero, and we have positive returns adjusted for downside risk. \n",
    "\n",
    "- **Beta = -0.000033** and tells us that there is a negative relationahip between Flow and Forward returns, and in particular, forward retuns decrease by 0.000033 (0.033\\%) for every 1 bp increase in the Flow."
   ]
  },
  {
   "cell_type": "markdown",
   "id": "9260767a",
   "metadata": {},
   "source": [
    "**Taking into consideration common benchmark values for Sharpe and Sortino ratios and the fact that those ratios for our trading strategy are less than 1, we can say that returns delivered by this trading strategy on BTCUSD pair do not make up for the amount of underlying risk.**"
   ]
  },
  {
   "cell_type": "code",
   "execution_count": 14,
   "id": "3ccacda1",
   "metadata": {
    "ExecuteTime": {
     "end_time": "2022-02-13T04:47:01.874852Z",
     "start_time": "2022-02-13T04:47:01.860146Z"
    }
   },
   "outputs": [
    {
     "data": {
      "text/html": [
       "<div>\n",
       "<style scoped>\n",
       "    .dataframe tbody tr th:only-of-type {\n",
       "        vertical-align: middle;\n",
       "    }\n",
       "\n",
       "    .dataframe tbody tr th {\n",
       "        vertical-align: top;\n",
       "    }\n",
       "\n",
       "    .dataframe thead th {\n",
       "        text-align: right;\n",
       "    }\n",
       "</style>\n",
       "<table border=\"1\" class=\"dataframe\">\n",
       "  <thead>\n",
       "    <tr style=\"text-align: right;\">\n",
       "      <th></th>\n",
       "      <th>Out of Sample $R^2$</th>\n",
       "      <th>$R^2$</th>\n",
       "      <th>Alpha</th>\n",
       "      <th>Beta</th>\n",
       "      <th>Sharpe Ratio</th>\n",
       "      <th>Sortino Ratio</th>\n",
       "      <th>Cumulative_PNL</th>\n",
       "    </tr>\n",
       "  </thead>\n",
       "  <tbody>\n",
       "    <tr>\n",
       "      <th>T=60, tau=30, BTCUSD</th>\n",
       "      <td>0.286136</td>\n",
       "      <td>0.251303</td>\n",
       "      <td>-0.000010</td>\n",
       "      <td>-0.000033</td>\n",
       "      <td>0.150049</td>\n",
       "      <td>0.110204</td>\n",
       "      <td>14137602.817218</td>\n",
       "    </tr>\n",
       "    <tr>\n",
       "      <th>T=60, tau=10, BTCUSD</th>\n",
       "      <td>0.196751</td>\n",
       "      <td>0.200939</td>\n",
       "      <td>-0.000003</td>\n",
       "      <td>-0.000053</td>\n",
       "      <td>0.138757</td>\n",
       "      <td>0.093373</td>\n",
       "      <td>12502956.373131</td>\n",
       "    </tr>\n",
       "    <tr>\n",
       "      <th>T=60, tau=60, BTCUSD</th>\n",
       "      <td>0.255536</td>\n",
       "      <td>0.197339</td>\n",
       "      <td>-0.000013</td>\n",
       "      <td>-0.000020</td>\n",
       "      <td>0.131565</td>\n",
       "      <td>0.088542</td>\n",
       "      <td>11870630.114982</td>\n",
       "    </tr>\n",
       "    <tr>\n",
       "      <th>T=30, tau=10, BTCUSD</th>\n",
       "      <td>0.219671</td>\n",
       "      <td>0.231659</td>\n",
       "      <td>-0.000002</td>\n",
       "      <td>-0.000041</td>\n",
       "      <td>0.154826</td>\n",
       "      <td>0.115476</td>\n",
       "      <td>9164216.009120</td>\n",
       "    </tr>\n",
       "    <tr>\n",
       "      <th>T=30, tau=30, BTCUSD</th>\n",
       "      <td>0.236203</td>\n",
       "      <td>0.216668</td>\n",
       "      <td>-0.000006</td>\n",
       "      <td>-0.000022</td>\n",
       "      <td>0.142199</td>\n",
       "      <td>0.091614</td>\n",
       "      <td>8653974.080846</td>\n",
       "    </tr>\n",
       "  </tbody>\n",
       "</table>\n",
       "</div>"
      ],
      "text/plain": [
       "                      Out of Sample $R^2$    $R^2$     Alpha      Beta  \\\n",
       "T=60, tau=30, BTCUSD             0.286136 0.251303 -0.000010 -0.000033   \n",
       "T=60, tau=10, BTCUSD             0.196751 0.200939 -0.000003 -0.000053   \n",
       "T=60, tau=60, BTCUSD             0.255536 0.197339 -0.000013 -0.000020   \n",
       "T=30, tau=10, BTCUSD             0.219671 0.231659 -0.000002 -0.000041   \n",
       "T=30, tau=30, BTCUSD             0.236203 0.216668 -0.000006 -0.000022   \n",
       "\n",
       "                      Sharpe Ratio  Sortino Ratio  Cumulative_PNL  \n",
       "T=60, tau=30, BTCUSD      0.150049       0.110204 14137602.817218  \n",
       "T=60, tau=10, BTCUSD      0.138757       0.093373 12502956.373131  \n",
       "T=60, tau=60, BTCUSD      0.131565       0.088542 11870630.114982  \n",
       "T=30, tau=10, BTCUSD      0.154826       0.115476  9164216.009120  \n",
       "T=30, tau=30, BTCUSD      0.142199       0.091614  8653974.080846  "
      ]
     },
     "execution_count": 14,
     "metadata": {},
     "output_type": "execute_result"
    }
   ],
   "source": [
    "BTCUSD_performance_table.sort_values(r'Cumulative_PNL',ascending=False).head(5)"
   ]
  },
  {
   "cell_type": "markdown",
   "id": "c9797fee",
   "metadata": {},
   "source": [
    "**When we plotted Flow versus predicted return, we found that linear relationship between BTCUSD flow and predicted return is the most obvious among three pairs.**"
   ]
  },
  {
   "cell_type": "code",
   "execution_count": 15,
   "id": "d8a5173c",
   "metadata": {
    "ExecuteTime": {
     "end_time": "2022-02-13T04:47:18.396879Z",
     "start_time": "2022-02-13T04:47:01.875847Z"
    }
   },
   "outputs": [
    {
     "data": {
      "image/png": "[encoded data removed]",
      "text/plain": [
       "<Figure size 720x576 with 1 Axes>"
      ]
     },
     "metadata": {
      "needs_background": "light"
     },
     "output_type": "display_data"
    }
   ],
   "source": [
    "df_train_BTCUSD_T_60_tau_30, df_test_BTCUSD_T_60_tau_30, results_BTCUSD_T_60_tau_30 = calulation_trade_flow_and_return(0.2,BTCUSD_trades,\"BTCUSD\",30,60)\n",
    "plt.figure(figsize = (10,8))\n",
    "sns.regplot(df_test_BTCUSD_T_60_tau_30['Flow'], df_test_BTCUSD_T_60_tau_30['Ret'], ci = None, scatter_kws={\"color\": \"blue\", 'alpha': 0.3}, line_kws={\"color\": \"red\"})\n",
    "plt.ylabel('BTCUSD T=60 tau=30 Predicted Return')\n",
    "plt.xlabel('BTCUSD T=60 tau=30 Flow')\n",
    "plt.title('BTCUSD T=60 tau=30 Flow vs. Predicted Return', fontsize = 20)\n",
    "plt.show()"
   ]
  },
  {
   "cell_type": "markdown",
   "id": "dd854c66",
   "metadata": {},
   "source": [
    "## 2.3 ETHBTC"
   ]
  },
  {
   "cell_type": "markdown",
   "id": "6d6f770e",
   "metadata": {},
   "source": [
    "ETH-BTC is thinly traded.  But the other data sets have far more frequent trades."
   ]
  },
  {
   "cell_type": "markdown",
   "id": "b45911ff",
   "metadata": {},
   "source": [
    "We can see from the table below that trading strategy when applied to ETHBTCU cryptocurrency pair shows the best results when we use the following parameters: $\\tau = 30, T = 60$ seconds"
   ]
  },
  {
   "cell_type": "markdown",
   "id": "4736997c",
   "metadata": {},
   "source": [
    "**Where of tau = 30 and T = 60 had an R^2 of 3.5% and Out of Sample R^2 of 3.2%. Both are very small, the regression model of ETH did not do well and their betas are all not that reliable.**"
   ]
  },
  {
   "cell_type": "markdown",
   "id": "e942342a",
   "metadata": {},
   "source": [
    "- **Cumulative PnL = \\$9,405** \n",
    "\n",
    "- **Sharpe Ratio = 0.17** with zero as a benchmark for its calculation (i.e. $r_b = 0$). It tells us that performance of our trading strategy taking into account the OVERALL risk of our strategy is above the benchmark, and we have positive excess returns, i.e. in general we can just say that we have positive returns as benchmark is $0$.\n",
    "\n",
    "\n",
    "- **Sortino Ratio = 0.20** with zero as a benchmark for its calculation (i.e. $r_b = 0$). It tells us that performance of our trading strategy taking into account ONLY the DOWNSIDE RISK of our strategy (measured by standard deviation of positions with negative returns) is above zero, and we have positive returns adjusted for downside risk. As Sortino Ratio is higher than Sharpe Ratio we can say that trading stretegy performs better in downturns than in upturns taking into consideration underlying risk. \n",
    "\n",
    "- **Beta = -0.000008** and tells us that there is a negative relationahip between Flow and Forward returns, and in particular, forward retuns decrease by 0.000008 (0.008\\%) for every 1 bp increase in the Flow."
   ]
  },
  {
   "cell_type": "markdown",
   "id": "f465f931",
   "metadata": {},
   "source": [
    "**From our understanding, the inaccuracy of the regression is caused because compared with ETHUSD and BTCUSD, ETHBTC is relatively thinly trade. Because there are too many noises in the market, the relatively lack of training data might cause the inaccuracy**."
   ]
  },
  {
   "cell_type": "markdown",
   "id": "36b13c20",
   "metadata": {},
   "source": [
    "**Taking into consideration common benchmark values for Sharpe and Sortino ratios and the fact that those ratios for our trading strategy are less than 1, we can say that returns delivered by this trading strategy on ETHBTC pair do not make up for the amount of underlying risk.**"
   ]
  },
  {
   "cell_type": "code",
   "execution_count": 16,
   "id": "b400ead1",
   "metadata": {
    "ExecuteTime": {
     "end_time": "2022-02-13T04:47:18.412805Z",
     "start_time": "2022-02-13T04:47:18.397846Z"
    }
   },
   "outputs": [
    {
     "data": {
      "text/html": [
       "<div>\n",
       "<style scoped>\n",
       "    .dataframe tbody tr th:only-of-type {\n",
       "        vertical-align: middle;\n",
       "    }\n",
       "\n",
       "    .dataframe tbody tr th {\n",
       "        vertical-align: top;\n",
       "    }\n",
       "\n",
       "    .dataframe thead th {\n",
       "        text-align: right;\n",
       "    }\n",
       "</style>\n",
       "<table border=\"1\" class=\"dataframe\">\n",
       "  <thead>\n",
       "    <tr style=\"text-align: right;\">\n",
       "      <th></th>\n",
       "      <th>Out of Sample $R^2$</th>\n",
       "      <th>$R^2$</th>\n",
       "      <th>Alpha</th>\n",
       "      <th>Beta</th>\n",
       "      <th>Sharpe Ratio</th>\n",
       "      <th>Sortino Ratio</th>\n",
       "      <th>Cumulative_PNL</th>\n",
       "    </tr>\n",
       "  </thead>\n",
       "  <tbody>\n",
       "    <tr>\n",
       "      <th>T=60, tau=30, ETHBTC</th>\n",
       "      <td>0.032326</td>\n",
       "      <td>0.034845</td>\n",
       "      <td>-0.000009</td>\n",
       "      <td>-0.000008</td>\n",
       "      <td>0.170305</td>\n",
       "      <td>0.198576</td>\n",
       "      <td>9405.447624</td>\n",
       "    </tr>\n",
       "    <tr>\n",
       "      <th>T=60, tau=60, ETHBTC</th>\n",
       "      <td>0.031079</td>\n",
       "      <td>0.028852</td>\n",
       "      <td>-0.000010</td>\n",
       "      <td>-0.000005</td>\n",
       "      <td>0.143070</td>\n",
       "      <td>0.152089</td>\n",
       "      <td>8759.929523</td>\n",
       "    </tr>\n",
       "    <tr>\n",
       "      <th>T=60, tau=10, ETHBTC</th>\n",
       "      <td>0.019229</td>\n",
       "      <td>0.035788</td>\n",
       "      <td>-0.000006</td>\n",
       "      <td>-0.000011</td>\n",
       "      <td>0.166077</td>\n",
       "      <td>0.160191</td>\n",
       "      <td>7787.517533</td>\n",
       "    </tr>\n",
       "    <tr>\n",
       "      <th>T=60, tau=2, ETHBTC</th>\n",
       "      <td>0.015903</td>\n",
       "      <td>0.034679</td>\n",
       "      <td>-0.000005</td>\n",
       "      <td>-0.000014</td>\n",
       "      <td>0.146300</td>\n",
       "      <td>0.059609</td>\n",
       "      <td>6223.251492</td>\n",
       "    </tr>\n",
       "    <tr>\n",
       "      <th>T=30, tau=10, ETHBTC</th>\n",
       "      <td>0.007017</td>\n",
       "      <td>0.037165</td>\n",
       "      <td>-0.000004</td>\n",
       "      <td>-0.000009</td>\n",
       "      <td>0.165995</td>\n",
       "      <td>0.174198</td>\n",
       "      <td>6221.467434</td>\n",
       "    </tr>\n",
       "  </tbody>\n",
       "</table>\n",
       "</div>"
      ],
      "text/plain": [
       "                      Out of Sample $R^2$    $R^2$     Alpha      Beta  \\\n",
       "T=60, tau=30, ETHBTC             0.032326 0.034845 -0.000009 -0.000008   \n",
       "T=60, tau=60, ETHBTC             0.031079 0.028852 -0.000010 -0.000005   \n",
       "T=60, tau=10, ETHBTC             0.019229 0.035788 -0.000006 -0.000011   \n",
       "T=60, tau=2, ETHBTC              0.015903 0.034679 -0.000005 -0.000014   \n",
       "T=30, tau=10, ETHBTC             0.007017 0.037165 -0.000004 -0.000009   \n",
       "\n",
       "                      Sharpe Ratio  Sortino Ratio  Cumulative_PNL  \n",
       "T=60, tau=30, ETHBTC      0.170305       0.198576     9405.447624  \n",
       "T=60, tau=60, ETHBTC      0.143070       0.152089     8759.929523  \n",
       "T=60, tau=10, ETHBTC      0.166077       0.160191     7787.517533  \n",
       "T=60, tau=2, ETHBTC       0.146300       0.059609     6223.251492  \n",
       "T=30, tau=10, ETHBTC      0.165995       0.174198     6221.467434  "
      ]
     },
     "execution_count": 16,
     "metadata": {},
     "output_type": "execute_result"
    }
   ],
   "source": [
    "ETHBTC_performance_table.sort_values(r'Cumulative_PNL',ascending=False).head(5)"
   ]
  },
  {
   "cell_type": "markdown",
   "id": "c5dc718c",
   "metadata": {},
   "source": [
    "**When we plotted Flow versus predicted return, we did not find linear relationship between ETHBTC flow and predicted return.**"
   ]
  },
  {
   "cell_type": "code",
   "execution_count": 17,
   "id": "c66bc836",
   "metadata": {
    "ExecuteTime": {
     "end_time": "2022-02-13T04:47:18.665943Z",
     "start_time": "2022-02-13T04:47:18.413803Z"
    }
   },
   "outputs": [
    {
     "data": {
      "image/png": "[encoded data removed]",
      "text/plain": [
       "<Figure size 720x576 with 1 Axes>"
      ]
     },
     "metadata": {
      "needs_background": "light"
     },
     "output_type": "display_data"
    }
   ],
   "source": [
    "df_train_ETHBTC_T_60_tau_30, df_test_ETHBTC_T_60_tau_30, results_ETHBTC_T_60_tau_30 = calulation_trade_flow_and_return(0.2,ETHBTC_trades,\"ETHBTC\",30,60)\n",
    "plt.figure(figsize = (10,8))\n",
    "sns.regplot(df_test_ETHBTC_T_60_tau_30['Flow'], df_test_ETHBTC_T_60_tau_30['Ret'], ci = None, scatter_kws={\"color\": \"blue\", 'alpha': 0.3}, line_kws={\"color\": \"red\"})\n",
    "plt.ylabel('ETHBTC T=60 tau=30 Predicted Return')\n",
    "plt.xlabel('ETHBTC T=60 tau=30 Flow')\n",
    "plt.title('ETHBTC T=60 tau=30 Flow vs. Predicted Return', fontsize = 20)\n",
    "plt.show()"
   ]
  },
  {
   "cell_type": "markdown",
   "id": "125a52cd",
   "metadata": {},
   "source": [
    "# 3. Analysis"
   ]
  },
  {
   "cell_type": "markdown",
   "id": "51f51860",
   "metadata": {},
   "source": [
    "## 3.1 Much longer training and test period? Using longer training periods to 30%,40%,50%,60% "
   ]
  },
  {
   "cell_type": "markdown",
   "id": "0b8fdfe2",
   "metadata": {},
   "source": [
    "**Cryptotoken market is a market with no underlying, so it is less likely that informed diretional traders existed than the underlying markets, which means we could not be sure that along the five days we’re computing, the traders who were trading are informed traders.<br>**"
   ]
  },
  {
   "cell_type": "markdown",
   "id": "b7b0e840",
   "metadata": {},
   "source": [
    "**From our understandings, with much longer training and test period, the strategy will become less reliable and the return will be much less attempting.<br>**"
   ]
  },
  {
   "cell_type": "markdown",
   "id": "4daaa5c2",
   "metadata": {},
   "source": [
    "###  3.1.1 ETHUSD longer traning period"
   ]
  },
  {
   "cell_type": "markdown",
   "id": "78cb8e3e",
   "metadata": {
    "ExecuteTime": {
     "end_time": "2022-02-11T04:06:11.085006Z",
     "start_time": "2022-02-11T04:06:11.043780Z"
    }
   },
   "source": [
    "**If we increase trainig period to 40% of the total data, where of tau = 30 and T = 60 had an R^2 of 10% and Out of Sample R^2 of 19%. Only a small improvement compared to 20% training period R^2 of 10% and Out of Sample R^2 of 17%.**"
   ]
  },
  {
   "cell_type": "markdown",
   "id": "3b5ec11c",
   "metadata": {},
   "source": [
    "**If we increase trainig period to 50% of the total data, where of tau = 30 and T = 60 had an R^2 of 10% and Out of Sample R^2 of 18%, which is a small improvement compared to 20% training period R^2 of 10% and Out of Sample R^2 of 17%.**"
   ]
  },
  {
   "cell_type": "code",
   "execution_count": 18,
   "id": "806f74a3",
   "metadata": {
    "ExecuteTime": {
     "end_time": "2022-02-13T04:47:18.681898Z",
     "start_time": "2022-02-13T04:47:18.666940Z"
    }
   },
   "outputs": [
    {
     "data": {
      "text/html": [
       "<div>\n",
       "<style scoped>\n",
       "    .dataframe tbody tr th:only-of-type {\n",
       "        vertical-align: middle;\n",
       "    }\n",
       "\n",
       "    .dataframe tbody tr th {\n",
       "        vertical-align: top;\n",
       "    }\n",
       "\n",
       "    .dataframe thead th {\n",
       "        text-align: right;\n",
       "    }\n",
       "</style>\n",
       "<table border=\"1\" class=\"dataframe\">\n",
       "  <thead>\n",
       "    <tr style=\"text-align: right;\">\n",
       "      <th></th>\n",
       "      <th>Out of Sample $R^2$</th>\n",
       "      <th>$R^2$</th>\n",
       "      <th>Alpha</th>\n",
       "      <th>Beta</th>\n",
       "      <th>Sharpe Ratio</th>\n",
       "      <th>Sortino Ratio</th>\n",
       "      <th>Cumulative_PNL</th>\n",
       "    </tr>\n",
       "  </thead>\n",
       "  <tbody>\n",
       "    <tr>\n",
       "      <th>T=60, tau=30, ETHUSD</th>\n",
       "      <td>0.183762</td>\n",
       "      <td>0.095250</td>\n",
       "      <td>0.000009</td>\n",
       "      <td>-0.000003</td>\n",
       "      <td>0.246635</td>\n",
       "      <td>0.302157</td>\n",
       "      <td>222399.825675</td>\n",
       "    </tr>\n",
       "  </tbody>\n",
       "</table>\n",
       "</div>"
      ],
      "text/plain": [
       "                      Out of Sample $R^2$    $R^2$    Alpha      Beta  \\\n",
       "T=60, tau=30, ETHUSD             0.183762 0.095250 0.000009 -0.000003   \n",
       "\n",
       "                      Sharpe Ratio  Sortino Ratio  Cumulative_PNL  \n",
       "T=60, tau=30, ETHUSD      0.246635       0.302157   222399.825675  "
      ]
     },
     "execution_count": 18,
     "metadata": {},
     "output_type": "execute_result"
    }
   ],
   "source": [
    "ETHUSD_performance_table_30.sort_values(r'Cumulative_PNL',ascending=False).head(1)"
   ]
  },
  {
   "cell_type": "code",
   "execution_count": 19,
   "id": "6a86a0d3",
   "metadata": {
    "ExecuteTime": {
     "end_time": "2022-02-13T04:47:18.697857Z",
     "start_time": "2022-02-13T04:47:18.682898Z"
    }
   },
   "outputs": [
    {
     "data": {
      "text/html": [
       "<div>\n",
       "<style scoped>\n",
       "    .dataframe tbody tr th:only-of-type {\n",
       "        vertical-align: middle;\n",
       "    }\n",
       "\n",
       "    .dataframe tbody tr th {\n",
       "        vertical-align: top;\n",
       "    }\n",
       "\n",
       "    .dataframe thead th {\n",
       "        text-align: right;\n",
       "    }\n",
       "</style>\n",
       "<table border=\"1\" class=\"dataframe\">\n",
       "  <thead>\n",
       "    <tr style=\"text-align: right;\">\n",
       "      <th></th>\n",
       "      <th>Out of Sample $R^2$</th>\n",
       "      <th>$R^2$</th>\n",
       "      <th>Alpha</th>\n",
       "      <th>Beta</th>\n",
       "      <th>Sharpe Ratio</th>\n",
       "      <th>Sortino Ratio</th>\n",
       "      <th>Cumulative_PNL</th>\n",
       "    </tr>\n",
       "  </thead>\n",
       "  <tbody>\n",
       "    <tr>\n",
       "      <th>T=60, tau=30, ETHUSD</th>\n",
       "      <td>0.194148</td>\n",
       "      <td>0.099158</td>\n",
       "      <td>-0.000004</td>\n",
       "      <td>-0.000003</td>\n",
       "      <td>0.247159</td>\n",
       "      <td>0.305477</td>\n",
       "      <td>199457.663169</td>\n",
       "    </tr>\n",
       "  </tbody>\n",
       "</table>\n",
       "</div>"
      ],
      "text/plain": [
       "                      Out of Sample $R^2$    $R^2$     Alpha      Beta  \\\n",
       "T=60, tau=30, ETHUSD             0.194148 0.099158 -0.000004 -0.000003   \n",
       "\n",
       "                      Sharpe Ratio  Sortino Ratio  Cumulative_PNL  \n",
       "T=60, tau=30, ETHUSD      0.247159       0.305477   199457.663169  "
      ]
     },
     "execution_count": 19,
     "metadata": {},
     "output_type": "execute_result"
    }
   ],
   "source": [
    "ETHUSD_performance_table_40.sort_values(r'Cumulative_PNL',ascending=False).head(1)"
   ]
  },
  {
   "cell_type": "code",
   "execution_count": 20,
   "id": "f9244d51",
   "metadata": {
    "ExecuteTime": {
     "end_time": "2022-02-13T04:47:18.713813Z",
     "start_time": "2022-02-13T04:47:18.698858Z"
    }
   },
   "outputs": [
    {
     "data": {
      "text/html": [
       "<div>\n",
       "<style scoped>\n",
       "    .dataframe tbody tr th:only-of-type {\n",
       "        vertical-align: middle;\n",
       "    }\n",
       "\n",
       "    .dataframe tbody tr th {\n",
       "        vertical-align: top;\n",
       "    }\n",
       "\n",
       "    .dataframe thead th {\n",
       "        text-align: right;\n",
       "    }\n",
       "</style>\n",
       "<table border=\"1\" class=\"dataframe\">\n",
       "  <thead>\n",
       "    <tr style=\"text-align: right;\">\n",
       "      <th></th>\n",
       "      <th>Out of Sample $R^2$</th>\n",
       "      <th>$R^2$</th>\n",
       "      <th>Alpha</th>\n",
       "      <th>Beta</th>\n",
       "      <th>Sharpe Ratio</th>\n",
       "      <th>Sortino Ratio</th>\n",
       "      <th>Cumulative_PNL</th>\n",
       "    </tr>\n",
       "  </thead>\n",
       "  <tbody>\n",
       "    <tr>\n",
       "      <th>T=60, tau=30, ETHUSD</th>\n",
       "      <td>0.178991</td>\n",
       "      <td>0.099198</td>\n",
       "      <td>0.000000</td>\n",
       "      <td>-0.000002</td>\n",
       "      <td>0.255905</td>\n",
       "      <td>0.326245</td>\n",
       "      <td>184171.147050</td>\n",
       "    </tr>\n",
       "  </tbody>\n",
       "</table>\n",
       "</div>"
      ],
      "text/plain": [
       "                      Out of Sample $R^2$    $R^2$    Alpha      Beta  \\\n",
       "T=60, tau=30, ETHUSD             0.178991 0.099198 0.000000 -0.000002   \n",
       "\n",
       "                      Sharpe Ratio  Sortino Ratio  Cumulative_PNL  \n",
       "T=60, tau=30, ETHUSD      0.255905       0.326245   184171.147050  "
      ]
     },
     "execution_count": 20,
     "metadata": {},
     "output_type": "execute_result"
    }
   ],
   "source": [
    "ETHUSD_performance_table_50.sort_values(r'Cumulative_PNL',ascending=False).head(1)"
   ]
  },
  {
   "cell_type": "code",
   "execution_count": 21,
   "id": "ba319a4e",
   "metadata": {
    "ExecuteTime": {
     "end_time": "2022-02-13T04:47:18.729770Z",
     "start_time": "2022-02-13T04:47:18.714811Z"
    }
   },
   "outputs": [
    {
     "data": {
      "text/html": [
       "<div>\n",
       "<style scoped>\n",
       "    .dataframe tbody tr th:only-of-type {\n",
       "        vertical-align: middle;\n",
       "    }\n",
       "\n",
       "    .dataframe tbody tr th {\n",
       "        vertical-align: top;\n",
       "    }\n",
       "\n",
       "    .dataframe thead th {\n",
       "        text-align: right;\n",
       "    }\n",
       "</style>\n",
       "<table border=\"1\" class=\"dataframe\">\n",
       "  <thead>\n",
       "    <tr style=\"text-align: right;\">\n",
       "      <th></th>\n",
       "      <th>Out of Sample $R^2$</th>\n",
       "      <th>$R^2$</th>\n",
       "      <th>Alpha</th>\n",
       "      <th>Beta</th>\n",
       "      <th>Sharpe Ratio</th>\n",
       "      <th>Sortino Ratio</th>\n",
       "      <th>Cumulative_PNL</th>\n",
       "    </tr>\n",
       "  </thead>\n",
       "  <tbody>\n",
       "    <tr>\n",
       "      <th>T=60, tau=30, ETHUSD</th>\n",
       "      <td>0.187017</td>\n",
       "      <td>0.118738</td>\n",
       "      <td>0.000003</td>\n",
       "      <td>-0.000002</td>\n",
       "      <td>0.248007</td>\n",
       "      <td>0.322488</td>\n",
       "      <td>151926.247919</td>\n",
       "    </tr>\n",
       "  </tbody>\n",
       "</table>\n",
       "</div>"
      ],
      "text/plain": [
       "                      Out of Sample $R^2$    $R^2$    Alpha      Beta  \\\n",
       "T=60, tau=30, ETHUSD             0.187017 0.118738 0.000003 -0.000002   \n",
       "\n",
       "                      Sharpe Ratio  Sortino Ratio  Cumulative_PNL  \n",
       "T=60, tau=30, ETHUSD      0.248007       0.322488   151926.247919  "
      ]
     },
     "execution_count": 21,
     "metadata": {},
     "output_type": "execute_result"
    }
   ],
   "source": [
    "ETHUSD_performance_table_60.sort_values(r'Cumulative_PNL',ascending=False).head(1)"
   ]
  },
  {
   "cell_type": "markdown",
   "id": "3b50d096",
   "metadata": {},
   "source": [
    "###  3.1.2 BTCUSD longer traning period"
   ]
  },
  {
   "cell_type": "markdown",
   "id": "9a397e75",
   "metadata": {},
   "source": [
    "**If we increase trainig period to 30% of the total data, where of tau = 30 and T = 60 had an R^2 of 23% and Out of Sample R^2 of 27%, which is a small deterioration compared to 20% training period R^2 of 25% and Out of Sample R^2 of 29%.**"
   ]
  },
  {
   "cell_type": "markdown",
   "id": "717301a6",
   "metadata": {},
   "source": [
    "**If we increase trainig period to 40% of the total data, where of tau = 30 and T = 60 had an R^2 of 43% and Out of Sample R^2 of 13%, we can see that Out of sample R^2 deterioration compared to 20% training period R^2 of 25% and Out of Sample R^2 of 29%.**"
   ]
  },
  {
   "cell_type": "code",
   "execution_count": 22,
   "id": "7ee1f0b3",
   "metadata": {
    "ExecuteTime": {
     "end_time": "2022-02-13T04:47:18.745730Z",
     "start_time": "2022-02-13T04:47:18.731765Z"
    }
   },
   "outputs": [
    {
     "data": {
      "text/html": [
       "<div>\n",
       "<style scoped>\n",
       "    .dataframe tbody tr th:only-of-type {\n",
       "        vertical-align: middle;\n",
       "    }\n",
       "\n",
       "    .dataframe tbody tr th {\n",
       "        vertical-align: top;\n",
       "    }\n",
       "\n",
       "    .dataframe thead th {\n",
       "        text-align: right;\n",
       "    }\n",
       "</style>\n",
       "<table border=\"1\" class=\"dataframe\">\n",
       "  <thead>\n",
       "    <tr style=\"text-align: right;\">\n",
       "      <th></th>\n",
       "      <th>Out of Sample $R^2$</th>\n",
       "      <th>$R^2$</th>\n",
       "      <th>Alpha</th>\n",
       "      <th>Beta</th>\n",
       "      <th>Sharpe Ratio</th>\n",
       "      <th>Sortino Ratio</th>\n",
       "      <th>Cumulative_PNL</th>\n",
       "    </tr>\n",
       "  </thead>\n",
       "  <tbody>\n",
       "    <tr>\n",
       "      <th>T=60, tau=30, BTCUSD</th>\n",
       "      <td>0.265572</td>\n",
       "      <td>0.234110</td>\n",
       "      <td>-0.000017</td>\n",
       "      <td>-0.000029</td>\n",
       "      <td>0.135493</td>\n",
       "      <td>0.094160</td>\n",
       "      <td>13419447.020254</td>\n",
       "    </tr>\n",
       "  </tbody>\n",
       "</table>\n",
       "</div>"
      ],
      "text/plain": [
       "                      Out of Sample $R^2$    $R^2$     Alpha      Beta  \\\n",
       "T=60, tau=30, BTCUSD             0.265572 0.234110 -0.000017 -0.000029   \n",
       "\n",
       "                      Sharpe Ratio  Sortino Ratio  Cumulative_PNL  \n",
       "T=60, tau=30, BTCUSD      0.135493       0.094160 13419447.020254  "
      ]
     },
     "execution_count": 22,
     "metadata": {},
     "output_type": "execute_result"
    }
   ],
   "source": [
    "BTCUSD_performance_table_30.sort_values(r'Cumulative_PNL',ascending=False).head(1)"
   ]
  },
  {
   "cell_type": "code",
   "execution_count": 23,
   "id": "3644cad7",
   "metadata": {
    "ExecuteTime": {
     "end_time": "2022-02-13T04:47:18.761686Z",
     "start_time": "2022-02-13T04:47:18.746729Z"
    }
   },
   "outputs": [
    {
     "data": {
      "text/html": [
       "<div>\n",
       "<style scoped>\n",
       "    .dataframe tbody tr th:only-of-type {\n",
       "        vertical-align: middle;\n",
       "    }\n",
       "\n",
       "    .dataframe tbody tr th {\n",
       "        vertical-align: top;\n",
       "    }\n",
       "\n",
       "    .dataframe thead th {\n",
       "        text-align: right;\n",
       "    }\n",
       "</style>\n",
       "<table border=\"1\" class=\"dataframe\">\n",
       "  <thead>\n",
       "    <tr style=\"text-align: right;\">\n",
       "      <th></th>\n",
       "      <th>Out of Sample $R^2$</th>\n",
       "      <th>$R^2$</th>\n",
       "      <th>Alpha</th>\n",
       "      <th>Beta</th>\n",
       "      <th>Sharpe Ratio</th>\n",
       "      <th>Sortino Ratio</th>\n",
       "      <th>Cumulative_PNL</th>\n",
       "    </tr>\n",
       "  </thead>\n",
       "  <tbody>\n",
       "    <tr>\n",
       "      <th>T=60, tau=30, BTCUSD</th>\n",
       "      <td>0.125207</td>\n",
       "      <td>0.433693</td>\n",
       "      <td>0.000005</td>\n",
       "      <td>-0.000068</td>\n",
       "      <td>0.218108</td>\n",
       "      <td>0.270438</td>\n",
       "      <td>8531943.840629</td>\n",
       "    </tr>\n",
       "  </tbody>\n",
       "</table>\n",
       "</div>"
      ],
      "text/plain": [
       "                      Out of Sample $R^2$    $R^2$    Alpha      Beta  \\\n",
       "T=60, tau=30, BTCUSD             0.125207 0.433693 0.000005 -0.000068   \n",
       "\n",
       "                      Sharpe Ratio  Sortino Ratio  Cumulative_PNL  \n",
       "T=60, tau=30, BTCUSD      0.218108       0.270438  8531943.840629  "
      ]
     },
     "execution_count": 23,
     "metadata": {},
     "output_type": "execute_result"
    }
   ],
   "source": [
    "BTCUSD_performance_table_40.sort_values(r'Cumulative_PNL',ascending=False).head(1)"
   ]
  },
  {
   "cell_type": "code",
   "execution_count": 24,
   "id": "f501f088",
   "metadata": {
    "ExecuteTime": {
     "end_time": "2022-02-13T04:47:18.776858Z",
     "start_time": "2022-02-13T04:47:18.762684Z"
    }
   },
   "outputs": [
    {
     "data": {
      "text/html": [
       "<div>\n",
       "<style scoped>\n",
       "    .dataframe tbody tr th:only-of-type {\n",
       "        vertical-align: middle;\n",
       "    }\n",
       "\n",
       "    .dataframe tbody tr th {\n",
       "        vertical-align: top;\n",
       "    }\n",
       "\n",
       "    .dataframe thead th {\n",
       "        text-align: right;\n",
       "    }\n",
       "</style>\n",
       "<table border=\"1\" class=\"dataframe\">\n",
       "  <thead>\n",
       "    <tr style=\"text-align: right;\">\n",
       "      <th></th>\n",
       "      <th>Out of Sample $R^2$</th>\n",
       "      <th>$R^2$</th>\n",
       "      <th>Alpha</th>\n",
       "      <th>Beta</th>\n",
       "      <th>Sharpe Ratio</th>\n",
       "      <th>Sortino Ratio</th>\n",
       "      <th>Cumulative_PNL</th>\n",
       "    </tr>\n",
       "  </thead>\n",
       "  <tbody>\n",
       "    <tr>\n",
       "      <th>T=60, tau=30, BTCUSD</th>\n",
       "      <td>0.120215</td>\n",
       "      <td>0.419142</td>\n",
       "      <td>-0.000012</td>\n",
       "      <td>-0.000067</td>\n",
       "      <td>0.202913</td>\n",
       "      <td>0.304029</td>\n",
       "      <td>7296226.625366</td>\n",
       "    </tr>\n",
       "  </tbody>\n",
       "</table>\n",
       "</div>"
      ],
      "text/plain": [
       "                      Out of Sample $R^2$    $R^2$     Alpha      Beta  \\\n",
       "T=60, tau=30, BTCUSD             0.120215 0.419142 -0.000012 -0.000067   \n",
       "\n",
       "                      Sharpe Ratio  Sortino Ratio  Cumulative_PNL  \n",
       "T=60, tau=30, BTCUSD      0.202913       0.304029  7296226.625366  "
      ]
     },
     "execution_count": 24,
     "metadata": {},
     "output_type": "execute_result"
    }
   ],
   "source": [
    "BTCUSD_performance_table_50.sort_values(r'Cumulative_PNL',ascending=False).head(1)"
   ]
  },
  {
   "cell_type": "code",
   "execution_count": 25,
   "id": "33af9982",
   "metadata": {
    "ExecuteTime": {
     "end_time": "2022-02-13T04:47:18.792815Z",
     "start_time": "2022-02-13T04:47:18.777855Z"
    }
   },
   "outputs": [
    {
     "data": {
      "text/html": [
       "<div>\n",
       "<style scoped>\n",
       "    .dataframe tbody tr th:only-of-type {\n",
       "        vertical-align: middle;\n",
       "    }\n",
       "\n",
       "    .dataframe tbody tr th {\n",
       "        vertical-align: top;\n",
       "    }\n",
       "\n",
       "    .dataframe thead th {\n",
       "        text-align: right;\n",
       "    }\n",
       "</style>\n",
       "<table border=\"1\" class=\"dataframe\">\n",
       "  <thead>\n",
       "    <tr style=\"text-align: right;\">\n",
       "      <th></th>\n",
       "      <th>Out of Sample $R^2$</th>\n",
       "      <th>$R^2$</th>\n",
       "      <th>Alpha</th>\n",
       "      <th>Beta</th>\n",
       "      <th>Sharpe Ratio</th>\n",
       "      <th>Sortino Ratio</th>\n",
       "      <th>Cumulative_PNL</th>\n",
       "    </tr>\n",
       "  </thead>\n",
       "  <tbody>\n",
       "    <tr>\n",
       "      <th>T=60, tau=30, BTCUSD</th>\n",
       "      <td>0.113470</td>\n",
       "      <td>0.409313</td>\n",
       "      <td>-0.000012</td>\n",
       "      <td>-0.000067</td>\n",
       "      <td>0.174204</td>\n",
       "      <td>0.285884</td>\n",
       "      <td>6141255.169140</td>\n",
       "    </tr>\n",
       "  </tbody>\n",
       "</table>\n",
       "</div>"
      ],
      "text/plain": [
       "                      Out of Sample $R^2$    $R^2$     Alpha      Beta  \\\n",
       "T=60, tau=30, BTCUSD             0.113470 0.409313 -0.000012 -0.000067   \n",
       "\n",
       "                      Sharpe Ratio  Sortino Ratio  Cumulative_PNL  \n",
       "T=60, tau=30, BTCUSD      0.174204       0.285884  6141255.169140  "
      ]
     },
     "execution_count": 25,
     "metadata": {},
     "output_type": "execute_result"
    }
   ],
   "source": [
    "BTCUSD_performance_table_60.sort_values(r'Cumulative_PNL',ascending=False).head(1)"
   ]
  },
  {
   "cell_type": "markdown",
   "id": "7236f96e",
   "metadata": {},
   "source": [
    "###  3.1.3 ETHBTC longer traning period"
   ]
  },
  {
   "cell_type": "markdown",
   "id": "7c828596",
   "metadata": {},
   "source": [
    "**If we increase trainig period to 60% of the total data, where of tau = 30 and T = 60 had an R^2 of 3.7% and Out of Sample R^2 of 5.4%, which is a small improvement compared to 20% training period R^2 of 3.5% and Out of Sample R^2 of 3.2%.**"
   ]
  },
  {
   "cell_type": "code",
   "execution_count": 26,
   "id": "3273af7e",
   "metadata": {
    "ExecuteTime": {
     "end_time": "2022-02-13T04:47:18.808802Z",
     "start_time": "2022-02-13T04:47:18.793815Z"
    }
   },
   "outputs": [
    {
     "data": {
      "text/html": [
       "<div>\n",
       "<style scoped>\n",
       "    .dataframe tbody tr th:only-of-type {\n",
       "        vertical-align: middle;\n",
       "    }\n",
       "\n",
       "    .dataframe tbody tr th {\n",
       "        vertical-align: top;\n",
       "    }\n",
       "\n",
       "    .dataframe thead th {\n",
       "        text-align: right;\n",
       "    }\n",
       "</style>\n",
       "<table border=\"1\" class=\"dataframe\">\n",
       "  <thead>\n",
       "    <tr style=\"text-align: right;\">\n",
       "      <th></th>\n",
       "      <th>Out of Sample $R^2$</th>\n",
       "      <th>$R^2$</th>\n",
       "      <th>Alpha</th>\n",
       "      <th>Beta</th>\n",
       "      <th>Sharpe Ratio</th>\n",
       "      <th>Sortino Ratio</th>\n",
       "      <th>Cumulative_PNL</th>\n",
       "    </tr>\n",
       "  </thead>\n",
       "  <tbody>\n",
       "    <tr>\n",
       "      <th>T=60, tau=30, ETHBTC</th>\n",
       "      <td>0.041938</td>\n",
       "      <td>0.031053</td>\n",
       "      <td>-0.000006</td>\n",
       "      <td>-0.000007</td>\n",
       "      <td>0.174479</td>\n",
       "      <td>0.209344</td>\n",
       "      <td>8797.489811</td>\n",
       "    </tr>\n",
       "  </tbody>\n",
       "</table>\n",
       "</div>"
      ],
      "text/plain": [
       "                      Out of Sample $R^2$    $R^2$     Alpha      Beta  \\\n",
       "T=60, tau=30, ETHBTC             0.041938 0.031053 -0.000006 -0.000007   \n",
       "\n",
       "                      Sharpe Ratio  Sortino Ratio  Cumulative_PNL  \n",
       "T=60, tau=30, ETHBTC      0.174479       0.209344     8797.489811  "
      ]
     },
     "execution_count": 26,
     "metadata": {},
     "output_type": "execute_result"
    }
   ],
   "source": [
    "ETHBTC_performance_table_30.sort_values(r'Cumulative_PNL',ascending=False).head(1)"
   ]
  },
  {
   "cell_type": "code",
   "execution_count": 27,
   "id": "1a62fe5d",
   "metadata": {
    "ExecuteTime": {
     "end_time": "2022-02-13T04:47:18.824732Z",
     "start_time": "2022-02-13T04:47:18.809771Z"
    }
   },
   "outputs": [
    {
     "data": {
      "text/html": [
       "<div>\n",
       "<style scoped>\n",
       "    .dataframe tbody tr th:only-of-type {\n",
       "        vertical-align: middle;\n",
       "    }\n",
       "\n",
       "    .dataframe tbody tr th {\n",
       "        vertical-align: top;\n",
       "    }\n",
       "\n",
       "    .dataframe thead th {\n",
       "        text-align: right;\n",
       "    }\n",
       "</style>\n",
       "<table border=\"1\" class=\"dataframe\">\n",
       "  <thead>\n",
       "    <tr style=\"text-align: right;\">\n",
       "      <th></th>\n",
       "      <th>Out of Sample $R^2$</th>\n",
       "      <th>$R^2$</th>\n",
       "      <th>Alpha</th>\n",
       "      <th>Beta</th>\n",
       "      <th>Sharpe Ratio</th>\n",
       "      <th>Sortino Ratio</th>\n",
       "      <th>Cumulative_PNL</th>\n",
       "    </tr>\n",
       "  </thead>\n",
       "  <tbody>\n",
       "    <tr>\n",
       "      <th>T=60, tau=30, ETHBTC</th>\n",
       "      <td>0.050694</td>\n",
       "      <td>0.030965</td>\n",
       "      <td>-0.000003</td>\n",
       "      <td>-0.000005</td>\n",
       "      <td>0.175162</td>\n",
       "      <td>0.211668</td>\n",
       "      <td>7902.596059</td>\n",
       "    </tr>\n",
       "  </tbody>\n",
       "</table>\n",
       "</div>"
      ],
      "text/plain": [
       "                      Out of Sample $R^2$    $R^2$     Alpha      Beta  \\\n",
       "T=60, tau=30, ETHBTC             0.050694 0.030965 -0.000003 -0.000005   \n",
       "\n",
       "                      Sharpe Ratio  Sortino Ratio  Cumulative_PNL  \n",
       "T=60, tau=30, ETHBTC      0.175162       0.211668     7902.596059  "
      ]
     },
     "execution_count": 27,
     "metadata": {},
     "output_type": "execute_result"
    }
   ],
   "source": [
    "ETHBTC_performance_table_40.sort_values(r'Cumulative_PNL',ascending=False).head(1)"
   ]
  },
  {
   "cell_type": "code",
   "execution_count": 28,
   "id": "cbaac42c",
   "metadata": {
    "ExecuteTime": {
     "end_time": "2022-02-13T04:47:18.840687Z",
     "start_time": "2022-02-13T04:47:18.826723Z"
    }
   },
   "outputs": [
    {
     "data": {
      "text/html": [
       "<div>\n",
       "<style scoped>\n",
       "    .dataframe tbody tr th:only-of-type {\n",
       "        vertical-align: middle;\n",
       "    }\n",
       "\n",
       "    .dataframe tbody tr th {\n",
       "        vertical-align: top;\n",
       "    }\n",
       "\n",
       "    .dataframe thead th {\n",
       "        text-align: right;\n",
       "    }\n",
       "</style>\n",
       "<table border=\"1\" class=\"dataframe\">\n",
       "  <thead>\n",
       "    <tr style=\"text-align: right;\">\n",
       "      <th></th>\n",
       "      <th>Out of Sample $R^2$</th>\n",
       "      <th>$R^2$</th>\n",
       "      <th>Alpha</th>\n",
       "      <th>Beta</th>\n",
       "      <th>Sharpe Ratio</th>\n",
       "      <th>Sortino Ratio</th>\n",
       "      <th>Cumulative_PNL</th>\n",
       "    </tr>\n",
       "  </thead>\n",
       "  <tbody>\n",
       "    <tr>\n",
       "      <th>T=60, tau=30, ETHBTC</th>\n",
       "      <td>0.052586</td>\n",
       "      <td>0.035860</td>\n",
       "      <td>-0.000008</td>\n",
       "      <td>-0.000005</td>\n",
       "      <td>0.175562</td>\n",
       "      <td>0.217430</td>\n",
       "      <td>6878.040930</td>\n",
       "    </tr>\n",
       "  </tbody>\n",
       "</table>\n",
       "</div>"
      ],
      "text/plain": [
       "                      Out of Sample $R^2$    $R^2$     Alpha      Beta  \\\n",
       "T=60, tau=30, ETHBTC             0.052586 0.035860 -0.000008 -0.000005   \n",
       "\n",
       "                      Sharpe Ratio  Sortino Ratio  Cumulative_PNL  \n",
       "T=60, tau=30, ETHBTC      0.175562       0.217430     6878.040930  "
      ]
     },
     "execution_count": 28,
     "metadata": {},
     "output_type": "execute_result"
    }
   ],
   "source": [
    "ETHBTC_performance_table_50.sort_values(r'Cumulative_PNL',ascending=False).head(1)"
   ]
  },
  {
   "cell_type": "code",
   "execution_count": 29,
   "id": "69b84344",
   "metadata": {
    "ExecuteTime": {
     "end_time": "2022-02-13T04:47:18.856643Z",
     "start_time": "2022-02-13T04:47:18.841685Z"
    }
   },
   "outputs": [
    {
     "data": {
      "text/html": [
       "<div>\n",
       "<style scoped>\n",
       "    .dataframe tbody tr th:only-of-type {\n",
       "        vertical-align: middle;\n",
       "    }\n",
       "\n",
       "    .dataframe tbody tr th {\n",
       "        vertical-align: top;\n",
       "    }\n",
       "\n",
       "    .dataframe thead th {\n",
       "        text-align: right;\n",
       "    }\n",
       "</style>\n",
       "<table border=\"1\" class=\"dataframe\">\n",
       "  <thead>\n",
       "    <tr style=\"text-align: right;\">\n",
       "      <th></th>\n",
       "      <th>Out of Sample $R^2$</th>\n",
       "      <th>$R^2$</th>\n",
       "      <th>Alpha</th>\n",
       "      <th>Beta</th>\n",
       "      <th>Sharpe Ratio</th>\n",
       "      <th>Sortino Ratio</th>\n",
       "      <th>Cumulative_PNL</th>\n",
       "    </tr>\n",
       "  </thead>\n",
       "  <tbody>\n",
       "    <tr>\n",
       "      <th>T=60, tau=30, ETHBTC</th>\n",
       "      <td>0.053972</td>\n",
       "      <td>0.037171</td>\n",
       "      <td>-0.000009</td>\n",
       "      <td>-0.000005</td>\n",
       "      <td>0.176482</td>\n",
       "      <td>0.228961</td>\n",
       "      <td>5984.658989</td>\n",
       "    </tr>\n",
       "  </tbody>\n",
       "</table>\n",
       "</div>"
      ],
      "text/plain": [
       "                      Out of Sample $R^2$    $R^2$     Alpha      Beta  \\\n",
       "T=60, tau=30, ETHBTC             0.053972 0.037171 -0.000009 -0.000005   \n",
       "\n",
       "                      Sharpe Ratio  Sortino Ratio  Cumulative_PNL  \n",
       "T=60, tau=30, ETHBTC      0.176482       0.228961     5984.658989  "
      ]
     },
     "execution_count": 29,
     "metadata": {},
     "output_type": "execute_result"
    }
   ],
   "source": [
    "ETHBTC_performance_table_60.sort_values(r'Cumulative_PNL',ascending=False).head(1)"
   ]
  },
  {
   "cell_type": "markdown",
   "id": "5ced9c44",
   "metadata": {},
   "source": [
    "## 3.2  Reliability of beta of regression model"
   ]
  },
  {
   "cell_type": "markdown",
   "id": "9919799e",
   "metadata": {},
   "source": [
    "To assess the the realiability of a regression model, there’re several statistics that we can take a look at:"
   ]
  },
  {
   "cell_type": "markdown",
   "id": "cf916177",
   "metadata": {
    "ExecuteTime": {
     "end_time": "2022-02-10T22:58:42.939683Z",
     "start_time": "2022-02-10T22:58:42.939683Z"
    }
   },
   "source": [
    "R squared: R squared in regression analysis measures the proportion of variation in the dependent variable which is explained by the variation of independent variable. More often, we use Adjusted  to meansure the model since it makes correction and avoids some bias. The lower R squared is, the less accurate and reliable that the model could predict the relationship between the dependent and independent variables."
   ]
  },
  {
   "cell_type": "markdown",
   "id": "41f563b8",
   "metadata": {},
   "source": [
    "For ETHUSD:<br>\n",
    "R squared:  R squared of 10% and Out of Sample R squared of 17%.<br>"
   ]
  },
  {
   "cell_type": "markdown",
   "id": "82edaada",
   "metadata": {},
   "source": [
    "For BTCUSD:<br>\n",
    "R squared: R squared of 25% and Out of Sample R squared of 29%.<br>"
   ]
  },
  {
   "cell_type": "markdown",
   "id": "a7045ac4",
   "metadata": {},
   "source": [
    "For ETHBTC:<br>\n",
    "R squared: R squared of 3.2% and Out of Sample R squared of 3.4%. Both are very small, the regression model of ETH did not do well and their betas are all not that reliable."
   ]
  },
  {
   "cell_type": "markdown",
   "id": "7547bc67",
   "metadata": {},
   "source": [
    "**From the result we get, the regression model for ETHUSD and BTCUSD did do well and their betas are reliable. However, the regression model for ETHBTC did not do well and their betas are not reliable.**"
   ]
  },
  {
   "cell_type": "markdown",
   "id": "15c30980",
   "metadata": {},
   "source": [
    "## 3.3  How to choose j in this strategy?"
   ]
  },
  {
   "cell_type": "markdown",
   "id": "cdde4822",
   "metadata": {},
   "source": [
    "Intuitively, we want to choose j such that when predicted return is larger than j, predicted return's distribution is left-skewed; when predicted return is smaller than j,  predicted return's distribution is right-skewed.<br> \n",
    "We could not choose a too-large j since the threshold is too high to trade. Also, we could not choose a too-small j sinche when the threshold is too low, there's no point of having a threshold.<br>"
   ]
  },
  {
   "cell_type": "markdown",
   "id": "e5d0efae",
   "metadata": {},
   "source": [
    "# 4. Graph Comparison"
   ]
  },
  {
   "cell_type": "code",
   "execution_count": 30,
   "id": "cdfe0f11",
   "metadata": {
    "ExecuteTime": {
     "end_time": "2022-02-13T04:47:19.565522Z",
     "start_time": "2022-02-13T04:47:18.857640Z"
    }
   },
   "outputs": [
    {
     "data": {
      "image/png": "[encoded data removed]",
      "text/plain": [
       "<Figure size 864x576 with 1 Axes>"
      ]
     },
     "metadata": {
      "needs_background": "light"
     },
     "output_type": "display_data"
    }
   ],
   "source": [
    "ETHUSD_tau_30_T_60_train,ETHUSD_tau_30_T_60_test,ETHUSD_tau_30_T_60_result =calulation_trade_flow_and_return(0.2,ETHUSD_trades,\"ETHUSD\",30,60)\n",
    "plt.figure(figsize=(12, 8))\n",
    "(ETHUSD_tau_30_T_60_test['Cumulative_PNL']).plot(c='r', label='test')\n",
    "plt.xticks(ha='center', rotation=90)\n",
    "plt.legend(frameon=False)\n",
    "plt.ylabel('Cumulative Profit and Loss')\n",
    "plt.title('Cumulative Profit and Loss of ETHUSD T=60 tau=30')\n",
    "plt.tight_layout()\n",
    "plt.show()\n",
    "None"
   ]
  },
  {
   "cell_type": "code",
   "execution_count": 31,
   "id": "b342f232",
   "metadata": {
    "ExecuteTime": {
     "end_time": "2022-02-13T04:47:31.169240Z",
     "start_time": "2022-02-13T04:47:19.566489Z"
    }
   },
   "outputs": [
    {
     "data": {
      "image/png": "[encoded data removed]",
      "text/plain": [
       "<Figure size 864x576 with 1 Axes>"
      ]
     },
     "metadata": {
      "needs_background": "light"
     },
     "output_type": "display_data"
    }
   ],
   "source": [
    "BTCUSD_tau_30_T_60_train,BTCUSD_tau_2_T_2_test,BTCUSD_tau_2_T_2_result =calulation_trade_flow_and_return(0.2,BTCUSD_trades,\"BTCUSD\",30,60)\n",
    "plt.figure(figsize=(12, 8))\n",
    "(BTCUSD_tau_2_T_2_test['Cumulative_PNL']).plot(c='b', label='test')\n",
    "plt.xticks(ha='center', rotation=90)\n",
    "plt.legend(frameon=False)\n",
    "plt.ylabel('Cumulative Profit and Loss')\n",
    "plt.title('Cumulative Profit and Loss of BTCUSD T=60 tau=30')\n",
    "plt.tight_layout()\n",
    "plt.show()\n",
    "None"
   ]
  },
  {
   "cell_type": "code",
   "execution_count": 32,
   "id": "c2e96d7d",
   "metadata": {
    "ExecuteTime": {
     "end_time": "2022-02-13T04:47:31.374435Z",
     "start_time": "2022-02-13T04:47:31.170220Z"
    }
   },
   "outputs": [
    {
     "data": {
      "image/png": "[encoded data removed]",
      "text/plain": [
       "<Figure size 864x576 with 1 Axes>"
      ]
     },
     "metadata": {
      "needs_background": "light"
     },
     "output_type": "display_data"
    }
   ],
   "source": [
    "ETHBTC_tau_30_T_60_train,ETHBTC_tau_30_T_60_test,ETHBTC_tau_30_T_60_result =calulation_trade_flow_and_return(0.2,ETHBTC_trades,\"ETHBTC\",30,60)\n",
    "plt.figure(figsize=(12, 8))\n",
    "(ETHBTC_tau_30_T_60_test['Cumulative_PNL']).plot(c='g', label='test')\n",
    "plt.xticks(ha='center', rotation=90)\n",
    "plt.legend(frameon=False)\n",
    "plt.ylabel('Cumulative Profit and Loss')\n",
    "plt.title('Cumulative Profit and Loss of ETHBTC T=60 tau=30')\n",
    "plt.tight_layout()\n",
    "plt.show()\n",
    "None"
   ]
  },
  {
   "cell_type": "markdown",
   "id": "7f1e1c47",
   "metadata": {},
   "source": [
    "# "
   ]
  }
 ],
 "metadata": {
  "kernelspec": {
   "display_name": "Python 3 (ipykernel)",
   "language": "python",
   "name": "python3"
  },
  "language_info": {
   "codemirror_mode": {
    "name": "ipython",
    "version": 3
   },
   "file_extension": ".py",
   "mimetype": "text/x-python",
   "name": "python",
   "nbconvert_exporter": "python",
   "pygments_lexer": "ipython3",
   "version": "3.8.12"
  }
 },
 "nbformat": 4,
 "nbformat_minor": 5
}
